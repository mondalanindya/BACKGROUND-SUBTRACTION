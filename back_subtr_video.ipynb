{
 "cells": [
  {
   "cell_type": "code",
   "execution_count": null,
   "metadata": {},
   "outputs": [],
   "source": [
    "import cv2\n",
    "import numpy as np\n",
    "cap = cv2.VideoCapture(r\"C:\\Users\\Anindya\\Downloads\\highway.mp4\")\n",
    "\n",
    "#We then take the first frame from the video, convert it to gray scale and apply Gaussian Blur to remove some noise.\n",
    "_, first_frame = cap.read()\n",
    "first_gray = cv2.cvtColor(first_frame, cv2.COLOR_BGR2GRAY)\n",
    "first_gray = cv2.GaussianBlur(first_gray, (5, 5), 0)\n",
    "\n",
    "#We run now the while loop so we load one by one the following frames.\n",
    "while True:\n",
    "    _, frame = cap.read()\n",
    "    gray_frame = cv2.cvtColor(frame, cv2.COLOR_BGR2GRAY)\n",
    "    gray_frame = cv2.GaussianBlur(gray_frame, (5, 5), 0)\n",
    "\n",
    "#And now we get to the core part of the background subtraction where we compute the absolute difference between the first frame and the current frame we are in inside the loop.\n",
    "    difference = cv2.absdiff(first_gray, gray_frame)\n",
    "    _, difference = cv2.threshold(difference, 25, 255, cv2.THRESH_BINARY)\n",
    "\n",
    "#At the end we show everything on the screen.\n",
    "    cv2.imshow(\"First frame\", first_frame)\n",
    "    cv2.imshow(\"Frame\", frame)\n",
    "    cv2.imshow(\"difference\", difference)\n",
    "   \n",
    "    key = cv2.waitKey(30)\n",
    "    if key == 27:\n",
    "        break\n",
    "cap.release()\n",
    "cv2.destroyAllWindows()"
   ]
  },
  {
   "cell_type": "code",
   "execution_count": null,
   "metadata": {},
   "outputs": [],
   "source": [
    "import cv2\n",
    "import numpy as np\n",
    "cap = cv2.VideoCapture(r\"C:\\Users\\Anindya\\Downloads\\highway.mp4\")\n",
    "\n",
    "#Then we load the subtractor.\n",
    "\n",
    "#Inside the parenthesis we can change the value of the subtractor. History is the number of the last frame that are taken into consideretion (by default 120).\n",
    "#The threshold value is the value used when computing the difference to extract the background. A lower threshold will find more differences with the advantage of a more noisy image.\n",
    "#Detectshadows is a function of the algorythm that can remove the shadows if enabled.\n",
    "#There are no right or wrong values, you need to try different settings to see what best fits your need.\n",
    "subtractor = cv2.createBackgroundSubtractorMOG2(history=100, varThreshold=50, detectShadows=True)\n",
    "\n",
    "#We then run the while loop to get the frames from the video.\n",
    "while True:\n",
    "    _, frame = cap.read()\n",
    "\n",
    "#Once we have the frames we can use the subtractor to find get the background.\n",
    "    mask = subtractor.apply(frame)\n",
    "\n",
    "#Finally we show everything on the screen.\n",
    "    cv2.imshow(\"Frame\", frame)\n",
    "    cv2.imshow(\"mask\", mask)\n",
    "    key = cv2.waitKey(30)\n",
    "    if key == 27:\n",
    "        break\n",
    "cap.release()\n",
    "cv2.destroyAllWindows()"
   ]
  },
  {
   "cell_type": "code",
   "execution_count": null,
   "metadata": {},
   "outputs": [],
   "source": []
  }
 ],
 "metadata": {
  "kernelspec": {
   "display_name": "Python 3",
   "language": "python",
   "name": "python3"
  },
  "language_info": {
   "codemirror_mode": {
    "name": "ipython",
    "version": 3
   },
   "file_extension": ".py",
   "mimetype": "text/x-python",
   "name": "python",
   "nbconvert_exporter": "python",
   "pygments_lexer": "ipython3",
   "version": "3.7.6"
  }
 },
 "nbformat": 4,
 "nbformat_minor": 4
}
